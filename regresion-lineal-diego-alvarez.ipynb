{
 "cells": [
  {
   "cell_type": "code",
   "execution_count": 1,
   "id": "30a158fa-6442-4bc3-a098-d29be568787d",
   "metadata": {
    "tags": []
   },
   "outputs": [],
   "source": [
    "# Diego alejandro alvarez - fase 2\n",
    "# libreas necesarias para correr nuestro proyecto\n",
    "\n",
    "\n",
    "import matplotlib.pyplot as plt\n",
    "from sklearn import linear_model\n",
    "import seaborn as sns\n",
    "import numpy as np\n",
    "import pandas as pd"
   ]
  },
  {
   "cell_type": "code",
   "execution_count": 3,
   "id": "94ddf7bb-c17a-4935-8eed-357b2657e3d8",
   "metadata": {
    "tags": []
   },
   "outputs": [],
   "source": [
    "data = pd.read_csv(\"B:/analisis de datos/archive/cars.csv\", sep=\",\")"
   ]
  },
  {
   "cell_type": "code",
   "execution_count": 4,
   "id": "481355c3-5629-49e3-a7ab-959a7c63e140",
   "metadata": {
    "tags": []
   },
   "outputs": [
    {
     "data": {
      "text/html": [
       "<div>\n",
       "<style scoped>\n",
       "    .dataframe tbody tr th:only-of-type {\n",
       "        vertical-align: middle;\n",
       "    }\n",
       "\n",
       "    .dataframe tbody tr th {\n",
       "        vertical-align: top;\n",
       "    }\n",
       "\n",
       "    .dataframe thead th {\n",
       "        text-align: right;\n",
       "    }\n",
       "</style>\n",
       "<table border=\"1\" class=\"dataframe\">\n",
       "  <thead>\n",
       "    <tr style=\"text-align: right;\">\n",
       "      <th></th>\n",
       "      <th>make</th>\n",
       "      <th>model</th>\n",
       "      <th>priceUSD</th>\n",
       "      <th>year</th>\n",
       "      <th>condition</th>\n",
       "      <th>mileage(kilometers)</th>\n",
       "      <th>fuel_type</th>\n",
       "      <th>volume(cm3)</th>\n",
       "      <th>color</th>\n",
       "      <th>transmission</th>\n",
       "      <th>drive_unit</th>\n",
       "      <th>segment</th>\n",
       "    </tr>\n",
       "  </thead>\n",
       "  <tbody>\n",
       "    <tr>\n",
       "      <th>0</th>\n",
       "      <td>mazda</td>\n",
       "      <td>2</td>\n",
       "      <td>5500</td>\n",
       "      <td>2008</td>\n",
       "      <td>with mileage</td>\n",
       "      <td>162000.0</td>\n",
       "      <td>petrol</td>\n",
       "      <td>1500.0</td>\n",
       "      <td>burgundy</td>\n",
       "      <td>mechanics</td>\n",
       "      <td>front-wheel drive</td>\n",
       "      <td>B</td>\n",
       "    </tr>\n",
       "    <tr>\n",
       "      <th>1</th>\n",
       "      <td>mazda</td>\n",
       "      <td>2</td>\n",
       "      <td>5350</td>\n",
       "      <td>2009</td>\n",
       "      <td>with mileage</td>\n",
       "      <td>120000.0</td>\n",
       "      <td>petrol</td>\n",
       "      <td>1300.0</td>\n",
       "      <td>black</td>\n",
       "      <td>mechanics</td>\n",
       "      <td>front-wheel drive</td>\n",
       "      <td>B</td>\n",
       "    </tr>\n",
       "    <tr>\n",
       "      <th>2</th>\n",
       "      <td>mazda</td>\n",
       "      <td>2</td>\n",
       "      <td>7000</td>\n",
       "      <td>2009</td>\n",
       "      <td>with mileage</td>\n",
       "      <td>61000.0</td>\n",
       "      <td>petrol</td>\n",
       "      <td>1500.0</td>\n",
       "      <td>silver</td>\n",
       "      <td>auto</td>\n",
       "      <td>front-wheel drive</td>\n",
       "      <td>B</td>\n",
       "    </tr>\n",
       "    <tr>\n",
       "      <th>3</th>\n",
       "      <td>mazda</td>\n",
       "      <td>2</td>\n",
       "      <td>3300</td>\n",
       "      <td>2003</td>\n",
       "      <td>with mileage</td>\n",
       "      <td>265000.0</td>\n",
       "      <td>diesel</td>\n",
       "      <td>1400.0</td>\n",
       "      <td>white</td>\n",
       "      <td>mechanics</td>\n",
       "      <td>front-wheel drive</td>\n",
       "      <td>B</td>\n",
       "    </tr>\n",
       "    <tr>\n",
       "      <th>4</th>\n",
       "      <td>mazda</td>\n",
       "      <td>2</td>\n",
       "      <td>5200</td>\n",
       "      <td>2008</td>\n",
       "      <td>with mileage</td>\n",
       "      <td>97183.0</td>\n",
       "      <td>diesel</td>\n",
       "      <td>1400.0</td>\n",
       "      <td>gray</td>\n",
       "      <td>mechanics</td>\n",
       "      <td>front-wheel drive</td>\n",
       "      <td>B</td>\n",
       "    </tr>\n",
       "    <tr>\n",
       "      <th>...</th>\n",
       "      <td>...</td>\n",
       "      <td>...</td>\n",
       "      <td>...</td>\n",
       "      <td>...</td>\n",
       "      <td>...</td>\n",
       "      <td>...</td>\n",
       "      <td>...</td>\n",
       "      <td>...</td>\n",
       "      <td>...</td>\n",
       "      <td>...</td>\n",
       "      <td>...</td>\n",
       "      <td>...</td>\n",
       "    </tr>\n",
       "    <tr>\n",
       "      <th>56239</th>\n",
       "      <td>lancia</td>\n",
       "      <td>zeta</td>\n",
       "      <td>3650</td>\n",
       "      <td>2000</td>\n",
       "      <td>with mileage</td>\n",
       "      <td>290000.0</td>\n",
       "      <td>petrol</td>\n",
       "      <td>2000.0</td>\n",
       "      <td>other</td>\n",
       "      <td>mechanics</td>\n",
       "      <td>front-wheel drive</td>\n",
       "      <td>M</td>\n",
       "    </tr>\n",
       "    <tr>\n",
       "      <th>56240</th>\n",
       "      <td>lancia</td>\n",
       "      <td>zeta</td>\n",
       "      <td>4100</td>\n",
       "      <td>1999</td>\n",
       "      <td>with mileage</td>\n",
       "      <td>340000.0</td>\n",
       "      <td>diesel</td>\n",
       "      <td>2100.0</td>\n",
       "      <td>blue</td>\n",
       "      <td>mechanics</td>\n",
       "      <td>front-wheel drive</td>\n",
       "      <td>M</td>\n",
       "    </tr>\n",
       "    <tr>\n",
       "      <th>56241</th>\n",
       "      <td>lancia</td>\n",
       "      <td>zeta</td>\n",
       "      <td>3600</td>\n",
       "      <td>1997</td>\n",
       "      <td>with mileage</td>\n",
       "      <td>354000.0</td>\n",
       "      <td>diesel</td>\n",
       "      <td>2100.0</td>\n",
       "      <td>burgundy</td>\n",
       "      <td>mechanics</td>\n",
       "      <td>front-wheel drive</td>\n",
       "      <td>M</td>\n",
       "    </tr>\n",
       "    <tr>\n",
       "      <th>56242</th>\n",
       "      <td>lancia</td>\n",
       "      <td>zeta</td>\n",
       "      <td>3000</td>\n",
       "      <td>1997</td>\n",
       "      <td>with mileage</td>\n",
       "      <td>350000.0</td>\n",
       "      <td>petrol</td>\n",
       "      <td>2000.0</td>\n",
       "      <td>blue</td>\n",
       "      <td>mechanics</td>\n",
       "      <td>front-wheel drive</td>\n",
       "      <td>M</td>\n",
       "    </tr>\n",
       "    <tr>\n",
       "      <th>56243</th>\n",
       "      <td>lancia</td>\n",
       "      <td>zeta</td>\n",
       "      <td>2950</td>\n",
       "      <td>1996</td>\n",
       "      <td>with mileage</td>\n",
       "      <td>3.0</td>\n",
       "      <td>petrol</td>\n",
       "      <td>2000.0</td>\n",
       "      <td>burgundy</td>\n",
       "      <td>mechanics</td>\n",
       "      <td>front-wheel drive</td>\n",
       "      <td>M</td>\n",
       "    </tr>\n",
       "  </tbody>\n",
       "</table>\n",
       "<p>56244 rows × 12 columns</p>\n",
       "</div>"
      ],
      "text/plain": [
       "         make model  priceUSD  year     condition  mileage(kilometers)  \\\n",
       "0       mazda     2      5500  2008  with mileage             162000.0   \n",
       "1       mazda     2      5350  2009  with mileage             120000.0   \n",
       "2       mazda     2      7000  2009  with mileage              61000.0   \n",
       "3       mazda     2      3300  2003  with mileage             265000.0   \n",
       "4       mazda     2      5200  2008  with mileage              97183.0   \n",
       "...       ...   ...       ...   ...           ...                  ...   \n",
       "56239  lancia  zeta      3650  2000  with mileage             290000.0   \n",
       "56240  lancia  zeta      4100  1999  with mileage             340000.0   \n",
       "56241  lancia  zeta      3600  1997  with mileage             354000.0   \n",
       "56242  lancia  zeta      3000  1997  with mileage             350000.0   \n",
       "56243  lancia  zeta      2950  1996  with mileage                  3.0   \n",
       "\n",
       "      fuel_type  volume(cm3)     color transmission         drive_unit segment  \n",
       "0        petrol       1500.0  burgundy    mechanics  front-wheel drive       B  \n",
       "1        petrol       1300.0     black    mechanics  front-wheel drive       B  \n",
       "2        petrol       1500.0    silver         auto  front-wheel drive       B  \n",
       "3        diesel       1400.0     white    mechanics  front-wheel drive       B  \n",
       "4        diesel       1400.0      gray    mechanics  front-wheel drive       B  \n",
       "...         ...          ...       ...          ...                ...     ...  \n",
       "56239    petrol       2000.0     other    mechanics  front-wheel drive       M  \n",
       "56240    diesel       2100.0      blue    mechanics  front-wheel drive       M  \n",
       "56241    diesel       2100.0  burgundy    mechanics  front-wheel drive       M  \n",
       "56242    petrol       2000.0      blue    mechanics  front-wheel drive       M  \n",
       "56243    petrol       2000.0  burgundy    mechanics  front-wheel drive       M  \n",
       "\n",
       "[56244 rows x 12 columns]"
      ]
     },
     "execution_count": 4,
     "metadata": {},
     "output_type": "execute_result"
    }
   ],
   "source": [
    "data"
   ]
  },
  {
   "cell_type": "code",
   "execution_count": 5,
   "id": "3136ef72-c826-4e2a-8fcb-98adedc2ac66",
   "metadata": {
    "tags": []
   },
   "outputs": [
    {
     "data": {
      "text/plain": [
       "<bound method NDFrame.describe of          make model  priceUSD  year     condition  mileage(kilometers)  \\\n",
       "0       mazda     2      5500  2008  with mileage             162000.0   \n",
       "1       mazda     2      5350  2009  with mileage             120000.0   \n",
       "2       mazda     2      7000  2009  with mileage              61000.0   \n",
       "3       mazda     2      3300  2003  with mileage             265000.0   \n",
       "4       mazda     2      5200  2008  with mileage              97183.0   \n",
       "...       ...   ...       ...   ...           ...                  ...   \n",
       "56239  lancia  zeta      3650  2000  with mileage             290000.0   \n",
       "56240  lancia  zeta      4100  1999  with mileage             340000.0   \n",
       "56241  lancia  zeta      3600  1997  with mileage             354000.0   \n",
       "56242  lancia  zeta      3000  1997  with mileage             350000.0   \n",
       "56243  lancia  zeta      2950  1996  with mileage                  3.0   \n",
       "\n",
       "      fuel_type  volume(cm3)     color transmission         drive_unit segment  \n",
       "0        petrol       1500.0  burgundy    mechanics  front-wheel drive       B  \n",
       "1        petrol       1300.0     black    mechanics  front-wheel drive       B  \n",
       "2        petrol       1500.0    silver         auto  front-wheel drive       B  \n",
       "3        diesel       1400.0     white    mechanics  front-wheel drive       B  \n",
       "4        diesel       1400.0      gray    mechanics  front-wheel drive       B  \n",
       "...         ...          ...       ...          ...                ...     ...  \n",
       "56239    petrol       2000.0     other    mechanics  front-wheel drive       M  \n",
       "56240    diesel       2100.0      blue    mechanics  front-wheel drive       M  \n",
       "56241    diesel       2100.0  burgundy    mechanics  front-wheel drive       M  \n",
       "56242    petrol       2000.0      blue    mechanics  front-wheel drive       M  \n",
       "56243    petrol       2000.0  burgundy    mechanics  front-wheel drive       M  \n",
       "\n",
       "[56244 rows x 12 columns]>"
      ]
     },
     "execution_count": 5,
     "metadata": {},
     "output_type": "execute_result"
    }
   ],
   "source": [
    "data.columns\n",
    "data.info\n",
    "data.describe\n"
   ]
  },
  {
   "cell_type": "code",
   "execution_count": 7,
   "id": "e4a04dd1-4da3-4e87-9667-78a72a543cba",
   "metadata": {
    "tags": []
   },
   "outputs": [
    {
     "data": {
      "image/png": "[encoded data removed]",
      "text/plain": [
       "<Figure size 640x480 with 1 Axes>"
      ]
     },
     "metadata": {},
     "output_type": "display_data"
    }
   ],
   "source": [
    "data.plot.scatter(x=\"year\", y=\"priceUSD\")\n",
    "plt.show()"
   ]
  },
  {
   "cell_type": "code",
   "execution_count": 8,
   "id": "ca82016d-c97b-46d1-bd1b-317a41868526",
   "metadata": {
    "tags": []
   },
   "outputs": [],
   "source": [
    "regresion = linear_model.LinearRegression()"
   ]
  },
  {
   "cell_type": "code",
   "execution_count": 9,
   "id": "987a8aa2-308a-46f1-9ddf-27009f98d570",
   "metadata": {
    "tags": []
   },
   "outputs": [],
   "source": [
    "years = data[\"year\"].values.reshape((-1,1))"
   ]
  },
  {
   "cell_type": "code",
   "execution_count": 12,
   "id": "5f2965bf-1929-40a6-931d-d9f2eea0409a",
   "metadata": {
    "tags": []
   },
   "outputs": [
    {
     "name": "stdout",
     "output_type": "stream",
     "text": [
      "Interseccion (b) -1230646.5307858826\n",
      "Interseccion (m) [617.9635112]\n"
     ]
    }
   ],
   "source": [
    "modelo = regresion.fit(years, data[\"priceUSD\"])\n",
    "# El método .fit() en Python se utiliza para entrenar modelos de machine learning y estadísticas al ajustar el modelo a los datos de entrenamiento, permitiendo que el modelo aprenda patrones y relaciones en esos datos para realizar predicciones o ajustes posteriores.\n",
    "\n",
    "print(\"Interseccion (b)\", modelo.intercept_)\n",
    "\n",
    "print(\"Interseccion (m)\", modelo.coef_)"
   ]
  },
  {
   "cell_type": "code",
   "execution_count": 13,
   "id": "1fd52af2-ca0a-4fcb-99be-08b00386701e",
   "metadata": {
    "tags": []
   },
   "outputs": [
    {
     "name": "stdout",
     "output_type": "stream",
     "text": [
      "[-19438.04883492 -13258.41372293  -7078.77861093   -899.14349894\n",
      "   8370.30916905  11460.12672505  17639.76183705]\n"
     ]
    }
   ],
   "source": [
    "entrada = [[1960], [1970], [1980],[1990], [2005], [2010], [2020]]\n",
    "# predict() en Python es utilizado para obtener predicciones o valores \n",
    "predicciones = modelo.predict(entrada)\n",
    "\n",
    "print(predicciones)"
   ]
  },
  {
   "cell_type": "code",
   "execution_count": 15,
   "id": "143348d6-a8ac-4e0e-bbeb-ae8632bcbad8",
   "metadata": {
    "tags": []
   },
   "outputs": [
    {
     "data": {
      "image/png": "[encoded data removed]",
      "text/plain": [
       "<Figure size 640x480 with 1 Axes>"
      ]
     },
     "metadata": {},
     "output_type": "display_data"
    }
   ],
   "source": [
    "data.plot.scatter(x=\"year\", y=\"priceUSD\", label=\"Datos\")\n",
    "plt.scatter(entrada, predicciones, color=\"green\")\n",
    "plt.plot(entrada, predicciones, color=\"black\", label=\"linea regresion\")\n",
    "plt.xlabel('year')\n",
    "plt.ylabel('priceUSD')\n",
    "plt.legend()\n",
    "plt.show()\n",
    "                  "
   ]
  },
  {
   "cell_type": "code",
   "execution_count": null,
   "id": "4102adc9-91f8-430f-9c1a-e7b8c604236c",
   "metadata": {},
   "outputs": [],
   "source": []
  }
 ],
 "metadata": {
  "kernelspec": {
   "display_name": "Python 3 (ipykernel)",
   "language": "python",
   "name": "python3"
  },
  "language_info": {
   "codemirror_mode": {
    "name": "ipython",
    "version": 3
   },
   "file_extension": ".py",
   "mimetype": "text/x-python",
   "name": "python",
   "nbconvert_exporter": "python",
   "pygments_lexer": "ipython3",
   "version": "3.11.4"
  }
 },
 "nbformat": 4,
 "nbformat_minor": 5
}
